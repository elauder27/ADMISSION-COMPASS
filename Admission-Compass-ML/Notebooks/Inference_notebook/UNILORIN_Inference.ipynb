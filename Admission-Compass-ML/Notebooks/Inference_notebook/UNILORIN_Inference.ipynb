{
 "cells": [
  {
   "cell_type": "code",
   "execution_count": 1,
   "id": "49cf7775",
   "metadata": {},
   "outputs": [
    {
     "name": "stdout",
     "output_type": "stream",
     "text": [
      "Model loaded successfully!\n"
     ]
    }
   ],
   "source": [
    "import pandas as pd\n",
    "import joblib\n",
    "\n",
    "model = joblib.load(\"../../Models/unilorin_admission_model.pkl\")\n",
    "print(\"Model loaded successfully!\")\n"
   ]
  },
  {
   "cell_type": "code",
   "execution_count": null,
   "id": "502df0a5",
   "metadata": {},
   "outputs": [
    {
     "name": "stdout",
     "output_type": "stream",
     "text": [
      "\n",
      "📋 Applicant Data:\n",
      "               Faculty               Department  UTME_Score  Post_UTME_Score  \\\n",
      "0  Management Sciences  Business Administration         180             14.5   \n",
      "\n",
      "   Aggregate_Score  Olevel_Valid  olevel_avg_points  \n",
      "0             53.0             1                3.2  \n",
      "\n",
      "🎯 Prediction Result:\n",
      "📊 Aggregate Score: 53.0\n",
      "📘 O'Level Average Points: 3.2\n",
      "💡 Admission Probability: 61.20% (Moderate Chance)\n",
      "⚖️ Fair chance — performance is competitive, but not guaranteed.\n"
     ]
    }
   ],
   "source": [
    "olevel_scale = {'A1': 4.0, 'B2': 3.6, 'B3': 3.2, 'C4': 2.8, 'C5': 2.4, 'C6': 2.0}\n",
    "\n",
    "def calculate_olevel_avg(grades):\n",
    "    \"\"\"Compute average O'Level grade points (UNILORIN scale).\"\"\"\n",
    "    points = [olevel_scale[g] for g in grades]\n",
    "    return round(sum(points) / len(points), 2)\n",
    "\n",
    "def calculate_aggregate(utme, post_utme, olevel_avg):\n",
    "    \"\"\"Compute UNILORIN weighted aggregate score: 50% UTME + 30% Post-UTME + 20% O'Level.\"\"\"\n",
    "    utme_score = (utme / 400) * 50\n",
    "    post_utme_score = (post_utme / 30) * 30\n",
    "    olevel_score = olevel_avg * 5  # scaled to 20%\n",
    "    total = utme_score + post_utme_score + olevel_score\n",
    "    return round(total, 2)\n",
    "\n",
    "# -----------------------------\n",
    "# 3️⃣ Applicant Data (Modify This Section)\n",
    "# -----------------------------\n",
    "applicant = {\n",
    "    \"Faculty\": \"Management Sciences\",\n",
    "    \"Department\": \"Business Administration\",\n",
    "    \"UTME_Score\": 265,\n",
    "    \"Post_UTME_Score\": 24.5,  # out of 30\n",
    "    \"Olevel_Grades\": [\"B3\", \"B2\", \"C4\", \"A1\", \"C5\"],\n",
    "    \"Olevel_Valid\": 1,  # 1 = passed, 0 = failed\n",
    "}\n",
    "\n",
    "# -----------------------------\n",
    "# 4️⃣ Process Input\n",
    "# -----------------------------\n",
    "# Compute average O'Level points\n",
    "olevel_avg_points = calculate_olevel_avg(applicant[\"Olevel_Grades\"])\n",
    "\n",
    "# Compute aggregate score\n",
    "aggregate_score = calculate_aggregate(\n",
    "    applicant[\"UTME_Score\"],\n",
    "    applicant[\"Post_UTME_Score\"],\n",
    "    olevel_avg_points\n",
    ")\n",
    "\n",
    "# Assemble applicant DataFrame\n",
    "input_df = pd.DataFrame([{\n",
    "    \"Faculty\": applicant[\"Faculty\"],\n",
    "    \"Department\": applicant[\"Department\"],\n",
    "    \"UTME_Score\": applicant[\"UTME_Score\"],\n",
    "    \"Post_UTME_Score\": applicant[\"Post_UTME_Score\"],\n",
    "    \"Aggregate_Score\": aggregate_score,\n",
    "    \"Olevel_Valid\": applicant[\"Olevel_Valid\"],\n",
    "    \"olevel_avg_points\": olevel_avg_points\n",
    "}])\n",
    "\n",
    "print(\"\\n📋 Applicant Data:\")\n",
    "print(input_df)\n",
    "\n",
    "# -----------------------------\n",
    "# 5️⃣ Predict Admission Probability\n",
    "# -----------------------------\n",
    "probability = model.predict_proba(input_df)[0][1]  # Probability of being admitted\n",
    "chance_percent = probability * 100\n",
    "\n",
    "# Threshold-based decision\n",
    "if probability >= 0.7:\n",
    "    chance_label = \"High\"\n",
    "elif 0.5 <= probability < 0.7:\n",
    "    chance_label = \"Moderate\"\n",
    "else:\n",
    "    chance_label = \"Low\"\n",
    "\n",
    "# -----------------------------\n",
    "# 6️⃣ Display Results\n",
    "# -----------------------------\n",
    "print(\"\\n🎯 Prediction Result:\")\n",
    "print(f\"📊 Aggregate Score: {aggregate_score}\")\n",
    "print(f\"📘 O'Level Average Points: {olevel_avg_points}\")\n",
    "print(f\"💡 Admission Probability: {chance_percent:.2f}% ({chance_label} Chance)\")\n",
    "\n",
    "if chance_label == \"High\":\n",
    "    print(\"✅ Likely to be admitted into UNILORIN!\")\n",
    "elif chance_label == \"Moderate\":\n",
    "    print(\"⚖️ Fair chance — performance is competitive, but not guaranteed.\")\n",
    "else:\n",
    "    print(\"❌ Low chance of admission — consider changing course or improving scores.\")\n"
   ]
  }
 ],
 "metadata": {
  "kernelspec": {
   "display_name": "Python 3",
   "language": "python",
   "name": "python3"
  },
  "language_info": {
   "codemirror_mode": {
    "name": "ipython",
    "version": 3
   },
   "file_extension": ".py",
   "mimetype": "text/x-python",
   "name": "python",
   "nbconvert_exporter": "python",
   "pygments_lexer": "ipython3",
   "version": "3.13.5"
  }
 },
 "nbformat": 4,
 "nbformat_minor": 5
}
