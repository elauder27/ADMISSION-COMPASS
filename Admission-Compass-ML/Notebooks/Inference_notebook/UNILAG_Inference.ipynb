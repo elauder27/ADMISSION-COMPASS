{
 "cells": [
  {
   "cell_type": "code",
   "execution_count": 3,
   "id": "b59f0315",
   "metadata": {},
   "outputs": [
    {
     "name": "stdout",
     "output_type": "stream",
     "text": [
      "Model loaded successfully!\n",
      "\n",
      "🎓 Single Applicant Prediction:\n",
      "Prediction: Admitted\n",
      "\n",
      "📊 Multiple Applicants Prediction Results:\n",
      "               Faculty                            Department  UTME_Score  \\\n",
      "0          Engineering  Electrical & Electronics Engineering         310   \n",
      "1  Management Sciences                            Accounting         260   \n",
      "2                 Arts                               English         245   \n",
      "\n",
      "   Post_UTME_Score  Olevel_Valid  olevel_avg_points Predicted_Status  \n",
      "0               23             1                3.6         Admitted  \n",
      "1               15             1                3.0       Considered  \n",
      "2               17             1                3.4       Considered  \n"
     ]
    }
   ],
   "source": [
    "# 🧠 UNILAG Admission Inference Notebook\n",
    "\n",
    "import pandas as pd\n",
    "import joblib\n",
    "import numpy as np\n",
    "\n",
    "model_path = \"../../Models/unilag_admission_model.pkl\"\n",
    "model = joblib.load(model_path)\n",
    "print(\"Model loaded successfully!\")\n",
    "\n",
    "# Example 1️⃣ – Predict for a single applicant\n",
    "# Sample applicant data\n",
    "single_applicant = pd.DataFrame([{\n",
    "    \"Faculty\": \"Engineering\",\n",
    "    \"Department\": \"Computer Engineering\",\n",
    "    \"UTME_Score\": 290,\n",
    "    \"Post_UTME_Score\": 20,   # Post-UTME score (max 30)\n",
    "    \"Olevel_Valid\": 1,       # 1 if all grades ≥ C6\n",
    "    \"olevel_avg_points\": 3.8 # average from 5 subjects\n",
    "}])\n",
    "\n",
    "# Predict admission outcome\n",
    "single_prediction = model.predict(single_applicant)[0]\n",
    "label_map = {0: \"Not Admitted\", 1: \"Considered\", 2: \"Admitted\"}\n",
    "print(\"\\n🎓 Single Applicant Prediction:\")\n",
    "print(f\"Prediction: {label_map[single_prediction]}\")\n",
    "\n",
    "# Example 2️⃣ – Predict for multiple applicants\n",
    "\n",
    "multiple_applicants = pd.DataFrame([\n",
    "    {\n",
    "        \"Faculty\": \"Engineering\",\n",
    "        \"Department\": \"Electrical & Electronics Engineering\",\n",
    "        \"UTME_Score\": 310,\n",
    "        \"Post_UTME_Score\": 23,\n",
    "        \"Olevel_Valid\": 1,\n",
    "        \"olevel_avg_points\": 3.6\n",
    "    },\n",
    "    {\n",
    "        \"Faculty\": \"Management Sciences\",\n",
    "        \"Department\": \"Accounting\",\n",
    "        \"UTME_Score\": 260,\n",
    "        \"Post_UTME_Score\": 15,\n",
    "        \"Olevel_Valid\": 1,\n",
    "        \"olevel_avg_points\": 3.0\n",
    "    },\n",
    "    {\n",
    "        \"Faculty\": \"Arts\",\n",
    "        \"Department\": \"English\",\n",
    "        \"UTME_Score\": 245,\n",
    "        \"Post_UTME_Score\": 17,\n",
    "        \"Olevel_Valid\": 1,\n",
    "        \"olevel_avg_points\": 3.4\n",
    "    }\n",
    "])\n",
    "\n",
    "# Predict for multiple applicants\n",
    "multi_predictions = model.predict(multiple_applicants)\n",
    "multiple_applicants[\"Predicted_Status\"] = [label_map[p] for p in multi_predictions]\n",
    "\n",
    "print(\"\\n📊 Multiple Applicants Prediction Results:\")\n",
    "print(multiple_applicants)\n"
   ]
  }
 ],
 "metadata": {
  "kernelspec": {
   "display_name": "Python 3",
   "language": "python",
   "name": "python3"
  },
  "language_info": {
   "codemirror_mode": {
    "name": "ipython",
    "version": 3
   },
   "file_extension": ".py",
   "mimetype": "text/x-python",
   "name": "python",
   "nbconvert_exporter": "python",
   "pygments_lexer": "ipython3",
   "version": "3.13.5"
  }
 },
 "nbformat": 4,
 "nbformat_minor": 5
}
