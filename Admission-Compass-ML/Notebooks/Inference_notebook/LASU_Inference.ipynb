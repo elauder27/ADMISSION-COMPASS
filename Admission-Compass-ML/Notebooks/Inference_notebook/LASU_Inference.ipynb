{
 "cells": [
  {
   "cell_type": "code",
   "execution_count": 4,
   "id": "ac55df6c",
   "metadata": {},
   "outputs": [
    {
     "name": "stdout",
     "output_type": "stream",
     "text": [
      "Model loaded successfully!\n"
     ]
    }
   ],
   "source": [
    "import pandas as pd\n",
    "import joblib\n",
    "\n",
    "model = joblib.load(\"../../Models/lasu_admission_model.pkl\")\n",
    "print(\"Model loaded successfully!\")\n"
   ]
  },
  {
   "cell_type": "code",
   "execution_count": null,
   "id": "52c62e6d",
   "metadata": {},
   "outputs": [
    {
     "name": "stdout",
     "output_type": "stream",
     "text": [
      "\n",
      "📋 Applicant Data:\n",
      "               faculty               department  utme_score  screening_score  \\\n",
      "0  Management Sciences  Business Administration         195            55.38   \n",
      "\n",
      "   olevel_passed  olevel_avg_points  \n",
      "0              1                6.2  \n",
      "\n",
      "🎯 Prediction Result:\n",
      "✅ Likely Admitted! (Chance: 77.33%)\n",
      "\n",
      "📊 Screening Score: 55.38\n",
      "📊 O'Level Average Points: 6.2\n"
     ]
    }
   ],
   "source": [
    "# -----------------------------\n",
    "# 2️⃣ Define O'level grading and helper functions\n",
    "# -----------------------------\n",
    "olevel_scale = {'A1': 10, 'B2': 9, 'B3': 8, 'C4': 7, 'C5': 6, 'C6': 5}\n",
    "\n",
    "def calculate_olevel_avg(grades):\n",
    "    \"\"\"Calculate average O'Level score from a list of 5 grades.\"\"\"\n",
    "    points = [olevel_scale[g] for g in grades]\n",
    "    return round(sum(points) / len(points), 2)\n",
    "\n",
    "def calculate_screening(utme, olevel_avg):\n",
    "    \"\"\"Compute screening score: 50% UTME + 50% O'Level\"\"\"\n",
    "    return round((utme / 8) + olevel_avg, 2)\n",
    "\n",
    "# -----------------------------\n",
    "# 3️⃣ Enter Applicant Data (Test Input)\n",
    "# -----------------------------\n",
    "# Example: Replace these values with different applicants to test\n",
    "applicant = {\n",
    "    \"faculty\": \"Management Sciences\",\n",
    "    \"department\": \"Business Administration\",\n",
    "    \"utme_score\": 195,\n",
    "    \"olevel_grades\": [\"C6\", \"C6\", \"C6\", \"C6\", \"C6\"],\n",
    "    \"screening_score\": None,  # If None, it’ll auto-calculate\n",
    "    \"olevel_passed\": 1        # 1 = Passed (C6 or above in all)\n",
    "}\n",
    "\n",
    "# -----------------------------\n",
    "# 4️⃣ Process Input Data\n",
    "# -----------------------------\n",
    "# Calculate O’Level Average\n",
    "olevel_avg_points = calculate_olevel_avg(applicant[\"olevel_grades\"])\n",
    "\n",
    "# Calculate screening if not given\n",
    "if applicant[\"screening_score\"] is None:\n",
    "    screening_score = calculate_screening(applicant[\"utme_score\"], olevel_avg_points * 5)\n",
    "else:\n",
    "    screening_score = applicant[\"screening_score\"]\n",
    "\n",
    "# Create DataFrame\n",
    "input_df = pd.DataFrame([{\n",
    "    \"faculty\": applicant[\"faculty\"],\n",
    "    \"department\": applicant[\"department\"],\n",
    "    \"utme_score\": applicant[\"utme_score\"],\n",
    "    \"screening_score\": screening_score,\n",
    "    \"olevel_passed\": applicant[\"olevel_passed\"],\n",
    "    \"olevel_avg_points\": olevel_avg_points \n",
    "}])\n",
    "\n",
    "print(\"\\n📋 Applicant Data:\")\n",
    "print(input_df)\n",
    "\n",
    "# -----------------------------\n",
    "# 5️⃣ Predict Admission\n",
    "# -----------------------------\n",
    "probability = model.predict_proba(input_df)[0][1]\n",
    "admitted = 1 if probability >= 0.65 else 0\n",
    "\n",
    "# -----------------------------\n",
    "# 6️⃣ Display Results\n",
    "# -----------------------------\n",
    "print(\"\\n🎯 Prediction Result:\")\n",
    "if admitted == 1:\n",
    "    print(f\"✅ Likely Admitted! (Chance: {probability * 100:.2f}%)\")\n",
    "else:\n",
    "    print(f\"❌ Not Likely Admitted (Chance: {probability * 100:.2f}%)\")\n",
    "\n",
    "print(\"\\n📊 Screening Score:\", screening_score)\n",
    "print(\"📊 O'Level Average Points:\", olevel_avg_points)\n"
   ]
  }
 ],
 "metadata": {
  "kernelspec": {
   "display_name": "Python 3",
   "language": "python",
   "name": "python3"
  },
  "language_info": {
   "codemirror_mode": {
    "name": "ipython",
    "version": 3
   },
   "file_extension": ".py",
   "mimetype": "text/x-python",
   "name": "python",
   "nbconvert_exporter": "python",
   "pygments_lexer": "ipython3",
   "version": "3.13.5"
  }
 },
 "nbformat": 4,
 "nbformat_minor": 5
}
