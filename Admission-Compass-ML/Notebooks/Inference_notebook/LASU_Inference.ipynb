{
 "cells": [
  {
   "cell_type": "code",
<<<<<<< HEAD
   "execution_count": 1,
=======
   "execution_count": 2,
>>>>>>> a3ddc62a8447b1e2b44876f9abeffeeb5c8980c9
   "id": "ac55df6c",
   "metadata": {},
   "outputs": [
    {
     "name": "stdout",
     "output_type": "stream",
     "text": [
      "Model loaded successfully!\n"
     ]
    }
   ],
   "source": [
    "import pandas as pd\n",
    "import joblib\n",
    "\n",
    "model = joblib.load(\"../../Models/lasu_admission_model.pkl\")\n",
    "print(\"Model loaded successfully!\")\n"
   ]
  },
  {
   "cell_type": "code",
<<<<<<< HEAD
   "execution_count": 3,
=======
   "execution_count": 4,
>>>>>>> a3ddc62a8447b1e2b44876f9abeffeeb5c8980c9
   "id": "20dc1f7e",
   "metadata": {},
   "outputs": [
    {
     "name": "stdout",
     "output_type": "stream",
     "text": [
      "Prediction: Admitted ✅\n",
      "Confidence: 99.0 %\n"
     ]
    }
   ],
   "source": [
    "# ======================\n",
    "# Define Sample Applicant(s)\n",
    "# ======================\n",
    "# Example: one applicant\n",
    "new_applicant = pd.DataFrame([{\n",
    "    \"faculty\": \"Science\",\n",
    "    \"department\": \"Computer Science\",\n",
    "    \"utme_score\": 250,\n",
    "    \"screening_score\": 72,\n",
    "    \"olevel_passed\": 1,\n",
    "    \"olevel_avg_points\": 8.2\n",
    "}])\n",
    "\n",
    "new_applicant\n",
    "\n",
    "# Make Prediction\n",
    "prediction = model.predict(new_applicant)[0]\n",
    "probability = model.predict_proba(new_applicant)[0][1]  # probability of admission\n",
    "\n",
    "print(\"Prediction:\", \"Admitted ✅\" if prediction == 1 else \"Not Admitted ❌\")\n",
    "print(\"Confidence:\", round(probability * 100, 2), \"%\")\n",
    "\n"
   ]
  },
  {
   "cell_type": "code",
<<<<<<< HEAD
   "execution_count": 2,
=======
   "execution_count": 5,
>>>>>>> a3ddc62a8447b1e2b44876f9abeffeeb5c8980c9
   "id": "1143eb51",
   "metadata": {},
   "outputs": [
    {
     "data": {
      "text/html": [
       "<div>\n",
       "<style scoped>\n",
       "    .dataframe tbody tr th:only-of-type {\n",
       "        vertical-align: middle;\n",
       "    }\n",
       "\n",
       "    .dataframe tbody tr th {\n",
       "        vertical-align: top;\n",
       "    }\n",
       "\n",
       "    .dataframe thead th {\n",
       "        text-align: right;\n",
       "    }\n",
       "</style>\n",
       "<table border=\"1\" class=\"dataframe\">\n",
       "  <thead>\n",
       "    <tr style=\"text-align: right;\">\n",
       "      <th></th>\n",
       "      <th>faculty</th>\n",
       "      <th>department</th>\n",
       "      <th>utme_score</th>\n",
       "      <th>screening_score</th>\n",
       "      <th>olevel_passed</th>\n",
       "      <th>olevel_avg_points</th>\n",
       "      <th>prediction</th>\n",
       "      <th>confidence</th>\n",
       "    </tr>\n",
       "  </thead>\n",
       "  <tbody>\n",
       "    <tr>\n",
       "      <th>0</th>\n",
       "      <td>Management Sciences</td>\n",
       "      <td>Accounting</td>\n",
       "      <td>220</td>\n",
       "      <td>65</td>\n",
       "      <td>1</td>\n",
       "      <td>7.4</td>\n",
       "      <td>Admitted ✅</td>\n",
       "      <td>97.0</td>\n",
       "    </tr>\n",
       "    <tr>\n",
       "      <th>1</th>\n",
       "      <td>Arts</td>\n",
       "      <td>English Language</td>\n",
       "      <td>180</td>\n",
       "      <td>45</td>\n",
       "      <td>1</td>\n",
       "      <td>6.2</td>\n",
       "      <td>Not Admitted ❌</td>\n",
       "      <td>7.5</td>\n",
       "    </tr>\n",
       "  </tbody>\n",
       "</table>\n",
       "</div>"
      ],
      "text/plain": [
       "               faculty        department  utme_score  screening_score  \\\n",
       "0  Management Sciences        Accounting         220               65   \n",
       "1                 Arts  English Language         180               45   \n",
       "\n",
       "   olevel_passed  olevel_avg_points      prediction  confidence  \n",
       "0              1                7.4      Admitted ✅        97.0  \n",
       "1              1                6.2  Not Admitted ❌         7.5  "
      ]
     },
<<<<<<< HEAD
     "execution_count": 2,
=======
     "execution_count": 5,
>>>>>>> a3ddc62a8447b1e2b44876f9abeffeeb5c8980c9
     "metadata": {},
     "output_type": "execute_result"
    }
   ],
   "source": [
    "# ======================\n",
    "# Multiple Applicants\n",
    "# ======================\n",
    "# To test multiple students at once\n",
    "applicants = pd.DataFrame([\n",
    "    {\n",
    "        \"faculty\": \"Management Sciences\",\n",
    "        \"department\": \"Accounting\",\n",
    "        \"utme_score\": 220,\n",
    "        \"screening_score\": 65,\n",
    "        \"olevel_passed\": 1,\n",
    "        \"olevel_avg_points\": 7.4\n",
    "    },\n",
    "    {\n",
    "        \"faculty\": \"Arts\",\n",
    "        \"department\": \"English Language\",\n",
    "        \"utme_score\": 180,\n",
    "        \"screening_score\": 45,\n",
    "        \"olevel_passed\": 1,\n",
    "        \"olevel_avg_points\": 6.2\n",
    "    }\n",
    "])\n",
    "\n",
    "predictions = model.predict(applicants)\n",
    "probas = model.predict_proba(applicants)[:, 1]\n",
    "\n",
    "results = applicants.copy()\n",
    "results[\"prediction\"] = [\"Admitted ✅\" if p == 1 else \"Not Admitted ❌\" for p in predictions]\n",
    "results[\"confidence\"] = (probas * 100).round(2)\n",
    "\n",
    "results\n"
   ]
  }
 ],
 "metadata": {
  "kernelspec": {
   "display_name": "Python 3",
   "language": "python",
   "name": "python3"
  },
  "language_info": {
   "codemirror_mode": {
    "name": "ipython",
    "version": 3
   },
   "file_extension": ".py",
   "mimetype": "text/x-python",
   "name": "python",
   "nbconvert_exporter": "python",
   "pygments_lexer": "ipython3",
   "version": "3.13.5"
  }
 },
 "nbformat": 4,
 "nbformat_minor": 5
}
