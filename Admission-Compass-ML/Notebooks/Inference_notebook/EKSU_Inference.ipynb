{
 "cells": [
  {
   "cell_type": "code",
   "execution_count": 7,
   "id": "541b11a0",
   "metadata": {},
   "outputs": [
    {
     "name": "stdout",
     "output_type": "stream",
     "text": [
      "Applicant details: {'UTME_Score': 230, 'Screening_Score': 58.0, 'Faculty': 'Management Science', 'Department': 'Accounting', 'Olevel_Valid': 1, 'olevel_avg_points': 5.8}\n",
      "Prediction: Admitted ✅\n",
      "Admission probability: 98.5 %\n"
     ]
    }
   ],
   "source": [
    "import joblib\n",
    "import pandas as pd\n",
    "\n",
    "# Load EKSU model\n",
    "model = joblib.load(\"../../Models/eksu_admission_model.pkl\")\n",
    "\n",
    "# Example applicant input\n",
    "applicant = {\n",
    "    \"UTME_Score\": 230,\n",
    "    \"Screening_Score\": 58.0,  # already computed from EKSU rule\n",
    "    \"Faculty\": \"Management Science\",\n",
    "    \"Department\": \"Accounting\",\n",
    "    \"Olevel_Valid\": 1,\n",
    "    \"olevel_avg_points\": 5.8\n",
    "}\n",
    "\n",
    "# Convert to DataFrame for model input\n",
    "new_applicant = pd.DataFrame([applicant])\n",
    "\n",
    "# Predict admission\n",
    "prediction = model.predict(new_applicant)[0]\n",
    "proba = model.predict_proba(new_applicant)[0][1]  # probability of admission\n",
    "\n",
    "status = \"Admitted ✅\" if prediction == 1 else \"Not Admitted ❌\"\n",
    "\n",
    "print(\"Applicant details:\", applicant)\n",
    "print(\"Prediction:\", status)\n",
    "print(\"Admission probability:\", round(proba * 100, 2), \"%\")\n"
   ]
  },
  {
   "cell_type": "code",
   "execution_count": null,
   "id": "07df601a",
   "metadata": {},
   "outputs": [],
   "source": []
  }
 ],
 "metadata": {
  "kernelspec": {
   "display_name": "Python 3",
   "language": "python",
   "name": "python3"
  },
  "language_info": {
   "codemirror_mode": {
    "name": "ipython",
    "version": 3
   },
   "file_extension": ".py",
   "mimetype": "text/x-python",
   "name": "python",
   "nbconvert_exporter": "python",
   "pygments_lexer": "ipython3",
   "version": "3.13.5"
  }
 },
 "nbformat": 4,
 "nbformat_minor": 5
}
