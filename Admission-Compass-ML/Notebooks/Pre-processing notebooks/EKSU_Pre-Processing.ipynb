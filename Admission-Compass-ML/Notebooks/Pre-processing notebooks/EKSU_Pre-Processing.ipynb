{
 "cells": [
  {
   "cell_type": "code",
   "execution_count": 2,
   "id": "9da0c1bb",
   "metadata": {},
   "outputs": [
    {
     "name": "stdout",
     "output_type": "stream",
     "text": [
      "Shape: (10000, 8)\n",
      "<class 'pandas.core.frame.DataFrame'>\n",
      "RangeIndex: 10000 entries, 0 to 9999\n",
      "Data columns (total 8 columns):\n",
      " #   Column            Non-Null Count  Dtype  \n",
      "---  ------            --------------  -----  \n",
      " 0   Faculty           10000 non-null  object \n",
      " 1   Department        10000 non-null  object \n",
      " 2   UTME_Score        10000 non-null  int64  \n",
      " 3   Screening_Score   10000 non-null  float64\n",
      " 4   Olevel_Valid      10000 non-null  bool   \n",
      " 5   Sittings          10000 non-null  int64  \n",
      " 6   Admission_Status  10000 non-null  object \n",
      " 7   Olevel_Grades     10000 non-null  object \n",
      "dtypes: bool(1), float64(1), int64(2), object(4)\n",
      "memory usage: 556.8+ KB\n",
      "Missing values:\n",
      " Faculty             0\n",
      "Department          0\n",
      "UTME_Score          0\n",
      "Screening_Score     0\n",
      "Olevel_Valid        0\n",
      "Sittings            0\n",
      "Admission_Status    0\n",
      "Olevel_Grades       0\n",
      "dtype: int64\n",
      "Duplicates: 0\n"
     ]
    }
   ],
   "source": [
    "import pandas as pd\n",
    "import numpy as np\n",
    "\n",
    "# Make pandas output cleaner\n",
    "pd.set_option(\"display.max_columns\", None)\n",
    "\n",
    "eksu_df = pd.read_csv(\"../../Data/EKSU.csv\")\n",
    "print(\"Shape:\", eksu_df.shape)\n",
    "eksu_df.head()\n",
    "eksu_df.info()\n",
    "eksu_df.describe()\n",
    "\n",
    "print(\"Missing values:\\n\", eksu_df.isnull().sum())\n",
    "print(\"Duplicates:\", eksu_df.duplicated().sum())\n"
   ]
  },
  {
   "cell_type": "code",
   "execution_count": 3,
   "id": "92444c64",
   "metadata": {},
   "outputs": [
    {
     "name": "stdout",
     "output_type": "stream",
     "text": [
      "admitted_numeric\n",
      "0    5666\n",
      "1    4334\n",
      "Name: count, dtype: int64\n",
      "Processed dataset saved to ../../Data/EKSU_processed.csv\n"
     ]
    }
   ],
   "source": [
    "eksu_df['admitted_numeric'] = eksu_df['Admission_Status'].map({\n",
    "    \"admitted\": 1,\n",
    "    \"not admitted\": 0\n",
    "})\n",
    "\n",
    "print(eksu_df['admitted_numeric'].value_counts(dropna=False))\n",
    "\n",
    "# Convert True/False to 1/0\n",
    "eksu_df['Olevel_Valid'] = eksu_df['Olevel_Valid'].astype(int)\n",
    "eksu_df[['Olevel_Valid']].head()\n",
    "\n",
    "# Example: compute average O'level points\n",
    "def olevel_avg(grades_str):\n",
    "    scale = {\"A1\": 8, \"B2\": 7, \"B3\": 6,\n",
    "    \"C4\": 5, \"C5\": 4, \"C6\": 3,\n",
    "    \"D7\": 2}\n",
    "    grades = grades_str.split(\", \")\n",
    "    return np.mean([scale[g] for g in grades])\n",
    "\n",
    "eksu_df['olevel_avg_points'] = eksu_df['Olevel_Grades'].apply(olevel_avg)\n",
    "eksu_df[['Olevel_Grades', 'olevel_avg_points']].head()\n",
    "\n",
    "processed_df = eksu_df[[\n",
    "    \"Faculty\", \"Department\", \"UTME_Score\", \"Screening_Score\",\n",
    "    \"Olevel_Valid\", \"olevel_avg_points\", \"admitted_numeric\"\n",
    "]]\n",
    "processed_df.head()\n",
    "\n",
    "# Save Processed Dataset\n",
    "import os\n",
    "\n",
    "# Ensure Data folder exists one level up\n",
    "os.makedirs(\"../Data\", exist_ok=True)\n",
    "processed_path = \"../../Data/EKSU_processed.csv\"\n",
    "processed_df.to_csv(processed_path, index=False)\n",
    "print(f\"Processed dataset saved to {processed_path}\")\n"
   ]
  }
 ],
 "metadata": {
  "kernelspec": {
   "display_name": "Python 3",
   "language": "python",
   "name": "python3"
  },
  "language_info": {
   "codemirror_mode": {
    "name": "ipython",
    "version": 3
   },
   "file_extension": ".py",
   "mimetype": "text/x-python",
   "name": "python",
   "nbconvert_exporter": "python",
   "pygments_lexer": "ipython3",
   "version": "3.13.5"
  }
 },
 "nbformat": 4,
 "nbformat_minor": 5
}
