{
 "cells": [
  {
   "cell_type": "code",
   "execution_count": 10,
   "id": "9b2d2ee8",
   "metadata": {},
   "outputs": [
    {
     "name": "stdout",
     "output_type": "stream",
     "text": [
      "Shape: (10000, 7)\n",
      "<class 'pandas.core.frame.DataFrame'>\n",
      "RangeIndex: 10000 entries, 0 to 9999\n",
      "Data columns (total 7 columns):\n",
      " #   Column           Non-Null Count  Dtype  \n",
      "---  ------           --------------  -----  \n",
      " 0   faculty          10000 non-null  object \n",
      " 1   department       10000 non-null  object \n",
      " 2   utme_score       10000 non-null  int64  \n",
      " 3   screening_score  10000 non-null  float64\n",
      " 4   olevel_passed    10000 non-null  bool   \n",
      " 5   admitted         10000 non-null  object \n",
      " 6   olevel_grades    10000 non-null  object \n",
      "dtypes: bool(1), float64(1), int64(1), object(4)\n",
      "memory usage: 478.6+ KB\n",
      "Missing values:\n",
      " faculty            0\n",
      "department         0\n",
      "utme_score         0\n",
      "screening_score    0\n",
      "olevel_passed      0\n",
      "admitted           0\n",
      "olevel_grades      0\n",
      "dtype: int64\n",
      "Duplicates: 0\n"
     ]
    }
   ],
   "source": [
    "import pandas as pd\n",
    "import numpy as np\n",
    "\n",
    "# Make pandas output cleaner\n",
    "pd.set_option(\"display.max_columns\", None)\n",
    "\n",
    "lasu_df = pd.read_csv(\"../../Data/LASU.csv\")\n",
    "print(\"Shape:\", lasu_df.shape)\n",
    "lasu_df.head()\n",
    "lasu_df.info()\n",
    "lasu_df.describe()\n",
    "\n",
    "print(\"Missing values:\\n\", lasu_df.isnull().sum())\n",
    "print(\"Duplicates:\", lasu_df.duplicated().sum())"
   ]
  },
  {
   "cell_type": "code",
   "execution_count": 11,
   "id": "c36cd241",
   "metadata": {},
   "outputs": [
    {
     "name": "stdout",
     "output_type": "stream",
     "text": [
      "admitted_numeric counts:\n",
      "admitted_numeric\n",
      "0    5109\n",
      "1    4891\n",
      "Name: count, dtype: int64\n",
      "Processed dataset saved to ../../Data/LASU_processed.csv\n"
     ]
    }
   ],
   "source": [
    "# Convert Admitted/Rejected to numeric\n",
    "#lasu_df['admitted_numeric'] = lasu_df['admitted'].map({\"Admitted\": 1, \"Rejected\": 0})\n",
    "#lasu_df[['admitted', 'admitted_numeric']].head()\n",
    "\n",
    "lasu_df['admitted_numeric'] = lasu_df['admitted'].map({\n",
    "    \"admitted\": 1,\n",
    "    \"not admitted\": 0\n",
    "})\n",
    "\n",
    "print(\"admitted_numeric counts:\")\n",
    "print(lasu_df['admitted_numeric'].value_counts(dropna=False))\n",
    "\n",
    "# Convert True/False to 1/0\n",
    "lasu_df['olevel_passed'] = lasu_df['olevel_passed'].astype(int)\n",
    "lasu_df[['olevel_passed']].head()\n",
    "\n",
    "# Example: compute average O'level points\n",
    "def olevel_avg(grades_str):\n",
    "    scale = {'A1': 10, 'B2': 9, 'B3': 8, 'C4': 7, 'C5': 6, 'C6': 5}\n",
    "    grades = grades_str.split(\", \")\n",
    "    return np.mean([scale[g] for g in grades])\n",
    "\n",
    "lasu_df['olevel_avg_points'] = lasu_df['olevel_grades'].apply(olevel_avg)\n",
    "lasu_df[['olevel_grades', 'olevel_avg_points']].head()\n",
    "\n",
    "processed_df = lasu_df[[\n",
    "    \"faculty\", \"department\", \"utme_score\", \"screening_score\",\n",
    "    \"olevel_passed\", \"olevel_avg_points\", \"admitted_numeric\"\n",
    "]]\n",
    "processed_df.head()\n",
    "\n",
    "# Cell 9: Save Processed Dataset\n",
    "import os\n",
    "\n",
    "# Ensure Data folder exists one level up\n",
    "os.makedirs(\"../Data\", exist_ok=True)\n",
    "processed_path = \"../../Data/LASU_processed.csv\"\n",
    "processed_df.to_csv(processed_path, index=False)\n",
    "print(f\"Processed dataset saved to {processed_path}\")\n"
   ]
  },
  {
   "cell_type": "code",
   "execution_count": 12,
   "id": "479499e3",
   "metadata": {},
   "outputs": [
    {
     "name": "stdout",
     "output_type": "stream",
     "text": [
      "   utme_score  olevel_avg_points  olevel_passed  screening_score  \\\n",
      "0         199                6.8              1            58.88   \n",
      "1         399                7.4              1            86.88   \n",
      "2         320                9.4              1            87.00   \n",
      "3         337                7.8              1            81.12   \n",
      "4         253                6.8              1            65.62   \n",
      "5         273                8.0              0            74.12   \n",
      "6         369                8.8              1            90.12   \n",
      "7         200                7.6              1            63.00   \n",
      "8         272                9.4              0            81.00   \n",
      "9         259                7.0              1            67.38   \n",
      "\n",
      "       admitted  admitted_numeric  \n",
      "0      admitted                 1  \n",
      "1      admitted                 1  \n",
      "2      admitted                 1  \n",
      "3      admitted                 1  \n",
      "4      admitted                 1  \n",
      "5  not admitted                 0  \n",
      "6      admitted                 1  \n",
      "7      admitted                 1  \n",
      "8  not admitted                 0  \n",
      "9      admitted                 1  \n"
     ]
    }
   ],
   "source": [
    "print(lasu_df[['utme_score', 'olevel_avg_points', 'olevel_passed', 'screening_score', 'admitted', 'admitted_numeric']].head(10))\n"
   ]
  }
 ],
 "metadata": {
  "kernelspec": {
   "display_name": "Python 3",
   "language": "python",
   "name": "python3"
  },
  "language_info": {
   "codemirror_mode": {
    "name": "ipython",
    "version": 3
   },
   "file_extension": ".py",
   "mimetype": "text/x-python",
   "name": "python",
   "nbconvert_exporter": "python",
   "pygments_lexer": "ipython3",
   "version": "3.13.5"
  }
 },
 "nbformat": 4,
 "nbformat_minor": 5
}
